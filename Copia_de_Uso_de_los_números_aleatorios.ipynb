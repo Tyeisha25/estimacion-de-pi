{
  "cells": [
    {
      "cell_type": "markdown",
      "metadata": {
        "id": "view-in-github",
        "colab_type": "text"
      },
      "source": [
        "<a href=\"https://colab.research.google.com/github/Tyeisha25/estimacion-de-pi/blob/main/Copia_de_Uso_de_los_n%C3%BAmeros_aleatorios.ipynb\" target=\"_parent\"><img src=\"https://colab.research.google.com/assets/colab-badge.svg\" alt=\"Open In Colab\"/></a>"
      ]
    },
    {
      "cell_type": "markdown",
      "metadata": {
        "id": "1ZP8IubvGAMn"
      },
      "source": [
        "# Uso de los números aleatorios"
      ]
    },
    {
      "cell_type": "markdown",
      "metadata": {
        "id": "4vwJe2pLGAMu"
      },
      "source": [
        "## 1. Introducción al Módulo random"
      ]
    },
    {
      "cell_type": "markdown",
      "metadata": {
        "id": "6QOa3sVbGAMv"
      },
      "source": [
        "El módulo random de la librería estándar de Python incluye un conjunto de funciones que permiten obtener de distintos modos \n",
        "números pseudoaleatorios a través del algoritmo [Mersenne Twister](https://es.wikipedia.org/wiki/Mersenne_twister)."
      ]
    },
    {
      "cell_type": "code",
      "execution_count": null,
      "metadata": {
        "id": "2Sk76EF4GAMx"
      },
      "outputs": [],
      "source": [
        "#importamos el módulo que vamos a usar \n",
        "\n",
        "import random   "
      ]
    },
    {
      "cell_type": "markdown",
      "metadata": {
        "id": "rfHKvAVWGAMz"
      },
      "source": [
        "Las funciones de los módulos se invocan con el formato: módulo.función().\n",
        "\n",
        "En el módulo random existe la función random, que devuelve un número aleatorio que sigue una distribución uniforme. \n",
        "\n",
        "Así, para obtener $x \\sim U(0,1)$:"
      ]
    },
    {
      "cell_type": "code",
      "execution_count": null,
      "metadata": {
        "id": "Fi2-5yelGAM0",
        "outputId": "bd985a5f-fe49-4299-d11b-cdd0eec005cd",
        "colab": {
          "base_uri": "https://localhost:8080/"
        }
      },
      "outputs": [
        {
          "output_type": "stream",
          "name": "stdout",
          "text": [
            "0.1603299513710802\n"
          ]
        }
      ],
      "source": [
        "x = random.random()  #Cada ejecución dará un número distinto.\n",
        "print(x)"
      ]
    },
    {
      "cell_type": "markdown",
      "metadata": {
        "id": "AT93v0e4GAM1"
      },
      "source": [
        "Se puede usar algún bucle si se desea generar una secuencia $x_i \\sim U(0,1)$ con $i = 1, 2, 3,..., N$:"
      ]
    },
    {
      "cell_type": "code",
      "execution_count": null,
      "metadata": {
        "id": "zEbAickcGAM2",
        "outputId": "f1746933-ec15-421c-b237-8166ce52b333",
        "colab": {
          "base_uri": "https://localhost:8080/"
        }
      },
      "outputs": [
        {
          "output_type": "stream",
          "name": "stdout",
          "text": [
            "0.8651 0.6033 0.1868 0.5631 0.9692 0.4177 0.5599 0.8690 0.6507 0.7085 0.1760 0.5004 0.2006 0.3971 0.1949 0.5641 0.0235 0.0722 0.9665 0.6259 \n"
          ]
        }
      ],
      "source": [
        "for i in range(20):\n",
        "    print('%05.4f' % random.random(), end=' ')  #El código en rojo indica la cantidad de dígitos y de decimales a mostrar.\n",
        "print()"
      ]
    },
    {
      "cell_type": "code",
      "execution_count": null,
      "metadata": {
        "id": "VndHld9QGAM2",
        "outputId": "cf57782b-c030-4def-9231-f0103493a9f0",
        "colab": {
          "base_uri": "https://localhost:8080/"
        }
      },
      "outputs": [
        {
          "output_type": "stream",
          "name": "stdout",
          "text": [
            "0.2720\n",
            "0.4276\n",
            "0.9192\n",
            "0.8988\n",
            "0.4920\n",
            "0.0328\n",
            "0.8895\n",
            "0.8477\n",
            "0.6626\n",
            "0.2980\n",
            "\n"
          ]
        }
      ],
      "source": [
        "for i in range(10):\n",
        "    print('%05.4f' % random.random(), sep=\"\\t\")\n",
        "print()"
      ]
    },
    {
      "cell_type": "markdown",
      "metadata": {
        "id": "9gLO2Lr7GAM4"
      },
      "source": [
        "La función seed() fija el valor de la semilla en la generación de la secuencia de números aleatorios. \n",
        "Esto es útil cuando se quieren utilizar los mismos datos de entrada en una simulación."
      ]
    },
    {
      "cell_type": "code",
      "execution_count": null,
      "metadata": {
        "id": "YAFh77pxGAM4",
        "outputId": "c2a66671-dc9d-466e-b24a-0c1f863cda69",
        "colab": {
          "base_uri": "https://localhost:8080/"
        }
      },
      "outputs": [
        {
          "output_type": "stream",
          "name": "stdout",
          "text": [
            "0.1344 0.8474 0.7638 0.2551 0.4954 0.4495 0.6516 0.7887 0.0939 0.0283 0.8358 0.4328 0.7623 0.0021 0.4454 0.7215 0.2288 0.9453 0.9014 0.0306 \n"
          ]
        }
      ],
      "source": [
        "random.seed(1) #primero fijamos la semilla\n",
        "\n",
        "for i in range(20):\n",
        "    print('%05.4f' % random.random(), end=' ')\n",
        "print()"
      ]
    },
    {
      "cell_type": "markdown",
      "metadata": {
        "id": "xOYIzUvkGAM5"
      },
      "source": [
        "## Ejercicio 1: \n",
        "    a)Usar la función random() para simular 1 volado.\n",
        "    b)Usar la función random() para simular 1000 volados.\n",
        "    c)Determinar de b) la probabilidad de que ocurra \"sol\" en un volado. "
      ]
    },
    {
      "cell_type": "code",
      "source": [
        "#1a)este programa hace 1 volado \n",
        "if random.random()<=.5:\n",
        "    print(\"aguila\")\n",
        "else:\n",
        "    print(\"sol\")"
      ],
      "metadata": {
        "id": "sfsnoOZBncAG",
        "outputId": "dd534a5a-d4d2-4a67-f829-a7eb5e40b0bb",
        "colab": {
          "base_uri": "https://localhost:8080/"
        }
      },
      "execution_count": null,
      "outputs": [
        {
          "output_type": "stream",
          "name": "stdout",
          "text": [
            "aguila\n"
          ]
        }
      ]
    },
    {
      "cell_type": "code",
      "source": [
        "#1b)este programa hace mil volados \n",
        "sol=0\n",
        "aguila=0\n",
        "for i in range(5):\n",
        "  if random.random()<=.5:\n",
        "    print(\"aguila\")\n",
        "    aguila=aguila+1\n",
        "  else:\n",
        "    print(\"sol\")\n",
        "    sol=sol+1\n",
        "print(\"aguilas\",aguila,\"sol\",sol)"
      ],
      "metadata": {
        "id": "HXcBtJP-luWP",
        "outputId": "2a111791-afff-45d2-d158-bf72370d81cf",
        "colab": {
          "base_uri": "https://localhost:8080/"
        }
      },
      "execution_count": null,
      "outputs": [
        {
          "output_type": "stream",
          "name": "stdout",
          "text": [
            "sol\n",
            "aguila\n",
            "aguila\n",
            "sol\n",
            "sol\n",
            "aguilas 2 sol 3\n"
          ]
        }
      ]
    },
    {
      "cell_type": "markdown",
      "source": [
        "1c)\n",
        "Dado que un volado es un experimento con 2 sucesos probables, la probabilidad de que al hacer un volado caiga sol es del 50% y como un volado es un evento excluyente. Podemos decir que la probabilidad de obtener un sol al lanzar mil volados siempre es del 50%. "
      ],
      "metadata": {
        "id": "ZUXwCLOen0lf"
      }
    },
    {
      "cell_type": "markdown",
      "metadata": {
        "id": "RF0u0RxoGAM6"
      },
      "source": [
        "La función uniform() devuelve un número float incluido entre los valores indicados."
      ]
    },
    {
      "cell_type": "code",
      "execution_count": null,
      "metadata": {
        "id": "FB6gO9I9GAM6",
        "outputId": "8dae94d6-75d0-4067-805e-8f2c835b850d",
        "colab": {
          "base_uri": "https://localhost:8080/"
        }
      },
      "outputs": [
        {
          "output_type": "stream",
          "name": "stdout",
          "text": [
            "40.7858 44.6839 16.4530 25.1928 17.1720 7.2682 7.8657 13.5670 5.3134 27.4025 \n"
          ]
        }
      ],
      "source": [
        "for i in range(10):\n",
        "    print('%5.4f' %random.uniform(1, 50), end=' ')\n",
        "print()"
      ]
    },
    {
      "cell_type": "markdown",
      "metadata": {
        "id": "_rGMuoDVGAM7"
      },
      "source": [
        "La función randint() devuelve un número entero incluido entre los valores indicados. \n",
        "Los valores de los límites inferior y superior también pueden aparecer entre los valores devueltos."
      ]
    },
    {
      "cell_type": "code",
      "execution_count": null,
      "metadata": {
        "id": "VxTE3gE9GAM7",
        "outputId": "b8add4fa-c560-48da-a46e-a38478d7f3fb",
        "colab": {
          "base_uri": "https://localhost:8080/"
        }
      },
      "outputs": [
        {
          "output_type": "stream",
          "name": "stdout",
          "text": [
            "79 -88 44 -56 75 -71 -43 44 -49 28 45 68 -22 8 -17 -99 98 -95 -22 57 \n"
          ]
        }
      ],
      "source": [
        "for i in range(20):\n",
        "    print(random.randint(-100, 100), end=' ')\n",
        "print()"
      ]
    },
    {
      "cell_type": "markdown",
      "metadata": {
        "id": "G9emasGZGAM8"
      },
      "source": [
        "## Ejercicio 2:\n",
        "    a) Simular un sorteo de los colores blanco, negro, rojo, azul y verde.\n",
        "    b) Simular 5 sorteos con sustitución."
      ]
    },
    {
      "cell_type": "code",
      "source": [
        "#este programa simula el sorteo de los colores sin sustitucion \n",
        "for i in range(1):\n",
        "  print(\"vez\",i+1)\n",
        "  colores=[0,1,2,3,4]\n",
        "  z=0\n",
        "  while len(colores)>0:\n",
        "    a=random.randint(min(colores), max(colores))\n",
        "    if colores.count(a)>0:\n",
        "      if a==0:\n",
        "        print(\"blanco\")\n",
        "      elif a==1:\n",
        "       print(\"negro\")\n",
        "      elif a==2:\n",
        "        print(\"rojo\")\n",
        "      elif a==3:\n",
        "        print(\"azul\")\n",
        "      else:\n",
        "        print(\"verde\")\n",
        "      colores.remove(a)"
      ],
      "metadata": {
        "id": "zOrufEQkzUad",
        "outputId": "52509cbb-c589-4bac-8d72-542ec6265052",
        "colab": {
          "base_uri": "https://localhost:8080/"
        }
      },
      "execution_count": null,
      "outputs": [
        {
          "output_type": "stream",
          "name": "stdout",
          "text": [
            "vez 1\n",
            "negro\n",
            "blanco\n",
            "verde\n",
            "rojo\n",
            "azul\n"
          ]
        }
      ]
    },
    {
      "cell_type": "code",
      "source": [
        "#este programa hace el sorteo con sustitucion\n",
        "blanco=0; negro=0; rojo=0; azul=0; azul=0; verde=0\n",
        "for i in range(5):\n",
        "  a=random.randint(0, 4)\n",
        "  if a==0:\n",
        "    print(\"blanco\")\n",
        "    blanco=blanco+1\n",
        "  elif a==1:\n",
        "    print(\"negro\")\n",
        "    negro=negro+1\n",
        "  elif a==2:\n",
        "    print(\"rojo\")\n",
        "    rojo=rojo+1\n",
        "  elif a==3:\n",
        "    print(\"azul\")\n",
        "    azul=azul+1\n",
        "  else:\n",
        "     print(\"verde\")\n",
        "     verde=verde+1\n",
        "print(\"blanco\",blanco,\"negro\",negro,\"rojo\",rojo,\"azul\",azul,\"verde\",verde)"
      ],
      "metadata": {
        "id": "xRCX8BgTwK9Y",
        "outputId": "a3ef6aa2-8ebf-414b-d7ca-89be0ffcd280",
        "colab": {
          "base_uri": "https://localhost:8080/"
        }
      },
      "execution_count": null,
      "outputs": [
        {
          "output_type": "stream",
          "name": "stdout",
          "text": [
            "negro\n",
            "negro\n",
            "azul\n",
            "azul\n",
            "azul\n",
            "blanco 0 negro 2 rojo 0 azul 3 verde 0\n"
          ]
        }
      ]
    },
    {
      "cell_type": "markdown",
      "metadata": {
        "id": "t35zTHweGAM8"
      },
      "source": [
        "La función randrange() devuelve enteros que van desde un valor inicial a otro final \n",
        "separados entre sí un número de valores determinados."
      ]
    },
    {
      "cell_type": "code",
      "execution_count": null,
      "metadata": {
        "id": "z9DSguLVGAM8",
        "outputId": "828c4aca-1c77-4bea-b096-1936ebb3226c",
        "colab": {
          "base_uri": "https://localhost:8080/"
        }
      },
      "outputs": [
        {
          "output_type": "stream",
          "name": "stdout",
          "text": [
            "0 12 3 6 6 15 15 18 15 12 0 12 0 18 15 3 9 15 12 0 \n"
          ]
        }
      ],
      "source": [
        "for i in range(20):\n",
        "    print(random.randrange(0, 20, 3), end=' ')\n",
        "print()"
      ]
    },
    {
      "cell_type": "markdown",
      "metadata": {
        "id": "edtAV0SbGAM9"
      },
      "source": [
        "# 2. Estimación del número $\\pi$"
      ]
    },
    {
      "cell_type": "code",
      "execution_count": null,
      "metadata": {
        "id": "SFnJj2iXGAM9"
      },
      "outputs": [],
      "source": [
        "import matplotlib.pyplot as plt\n",
        "import numpy as np"
      ]
    },
    {
      "cell_type": "code",
      "execution_count": null,
      "metadata": {
        "id": "Cf1Gknd1GAM9",
        "outputId": "38ecc1a8-6b56-45da-e71a-c9c5517d185e",
        "colab": {
          "base_uri": "https://localhost:8080/",
          "height": 514
        }
      },
      "outputs": [
        {
          "output_type": "display_data",
          "data": {
            "image/png": "[encoded data removed]",
            "text/plain": [
              "<Figure size 576x576 with 1 Axes>"
            ]
          },
          "metadata": {
            "needs_background": "light"
          }
        }
      ],
      "source": [
        "x = np.linspace(0, 1, 100)\n",
        "y = np.sqrt(1 - x**2)               # Ecuación del círculo en el primer cuadrante \n",
        "\n",
        "\n",
        "x_1 = random.random()\n",
        "y_1 = random.random()\n",
        "\n",
        "fig = plt.figure(1, figsize=(8, 8))        # Aquí fijamos el formato de la gráfica para que sea cuadrada.\n",
        "plt.plot(x, y, color=\"red\", markersize=1) \n",
        "plt.scatter(x_1, y_1, s=20, c=\"blue\")\n",
        "plt.title(\"Estimación de $\\pi$\")\n",
        "plt.xlabel(\"X\")\n",
        "plt.ylabel(\"Y\")\n",
        "plt.grid()\n",
        "plt.show()"
      ]
    },
    {
      "cell_type": "markdown",
      "metadata": {
        "id": "exLvAlm2GAM-"
      },
      "source": [
        "# Tarea 1. \n",
        "    Estimar el valor de pi usando la función random"
      ]
    },
    {
      "cell_type": "code",
      "execution_count": null,
      "metadata": {
        "id": "LlANBl_sGAM-"
      },
      "outputs": [],
      "source": [
        "import matplotlib.pyplot as plt\n",
        "import numpy as np"
      ]
    },
    {
      "cell_type": "code",
      "source": [
        "x = np.linspace(-1, 1, 100)\n",
        "y = -np.sqrt(1 - x**2)    # Ecuación del círculo en el primer cuadrante \n",
        "x1 = np.linspace(-1, 1, 100)\n",
        "y1 = np.sqrt(1 - x**2)    # Ecuación del círculo en el primer cuadrante \n",
        "z=800\n",
        "\n",
        "puntosx=[]\n",
        "puntosy=[]\n",
        "afuera=0\n",
        "adentro=0\n",
        "\n",
        "for i in range(z):\n",
        "  puntosx.append(random.uniform(-1,1))\n",
        "  puntosy.append(random.uniform(-1,1))\n",
        "\n",
        "fig = plt.figure(1, figsize=(8, 8))        # Aquí fijamos el formato de la gráfica para que sea cuadrada.\n",
        "plt.plot(x, y, color=\"red\", markersize=1) \n",
        "plt.plot(x1, y1, color=\"red\", markersize=1) \n",
        "for i in range(z):\n",
        "  plt.scatter(puntosx[i], puntosy[i], s=20, c=\"blue\")\n",
        "  if ((puntosx[i])*(puntosx[i]))+((puntosy[i])*(puntosy[i]))>=1:\n",
        "    afuera=afuera+1\n",
        "  else:\n",
        "    adentro=adentro+1\n",
        "plt.title(\"Estimación de $\\pi$\")\n",
        "plt.xlabel(\"X\")\n",
        "plt.ylabel(\"Y\")\n",
        "plt.grid()\n",
        "plt.show()\n",
        "\n",
        "print(afuera,adentro)\n",
        "print((adentro/(adentro+afuera))*4)"
      ],
      "metadata": {
        "id": "IiNzrnzYt8fm",
        "outputId": "61581c66-2dbe-4631-d4e6-00deaefe9f76",
        "colab": {
          "base_uri": "https://localhost:8080/",
          "height": 549
        }
      },
      "execution_count": null,
      "outputs": [
        {
          "output_type": "display_data",
          "data": {
            "image/png": "[encoded data removed]",
            "text/plain": [
              "<Figure size 576x576 with 1 Axes>"
            ]
          },
          "metadata": {
            "needs_background": "light"
          }
        },
        {
          "output_type": "stream",
          "name": "stdout",
          "text": [
            "175 625\n",
            "3.125\n"
          ]
        }
      ]
    },
    {
      "cell_type": "markdown",
      "metadata": {
        "id": "Tuxw8R86GAM_"
      },
      "source": [
        "## La aproximación analítica"
      ]
    },
    {
      "cell_type": "markdown",
      "metadata": {
        "id": "yAFNHFIbGAM_"
      },
      "source": [
        "Partamos de la ecuación:\n",
        "\n",
        "##     $\\pi = 4\\arctan 1$\n",
        "\n",
        "y usemos la aproximación de Taylor para expandir en una serie de potencias.\n",
        "\n",
        "Recordar:\n",
        "\n",
        "$f(x) = f(0) + f´(x)x + \\frac{1}{2}f´´(0)x^2 + ...$\n",
        "\n",
        "$Si f(x) = \\arctan x$ entonces:\n",
        "\n",
        "$f´(x) = \\frac{d \\arctan x}{dx} = \\frac{1}{1 + x^2} \\rightarrow f´(0) = 1$\n",
        "\n",
        "$f´´(x) = \\frac{d^2 \\arctan x}{d^2x} = - \\frac{2x}{(1 + x^2)^2} \\rightarrow f´´(0) = 0$\n",
        "\n",
        "...\n",
        "\n",
        "$f^{2i + 1}(x) = (-1)^{i} \\frac{(2i)!}{(1 + x^2)^{2i + 1}} \\rightarrow f^{2i + 1}(0) = (-1)(2i)!$\n",
        "\n",
        "$f^{2i}(x) = 0$\n",
        "\n",
        "Entonces:\n",
        "\n",
        "$\\arctan x = \\sum_{i = 0} (-1)^{i} \\frac{x^{2i + 1}}{2i + 1}$\n",
        "\n",
        "Por tanto:\n",
        "\n",
        "## $\\pi = \\sum_{i = 0} (-1)^{i} \\frac{4}{2i + 1}$"
      ]
    },
    {
      "cell_type": "code",
      "execution_count": null,
      "metadata": {
        "id": "UjcKmfS5GAM_"
      },
      "outputs": [],
      "source": [
        "def pi_taylor(n):\n",
        "    pi = 0\n",
        "    for i in range(n):\n",
        "        pi = pi + 4.0/(2*i+1)*(-1)**i\n",
        "        print(i, pi)"
      ]
    },
    {
      "cell_type": "code",
      "execution_count": null,
      "metadata": {
        "id": "du7ZX7joGANA"
      },
      "outputs": [],
      "source": [
        "pi_taylor(10)"
      ]
    },
    {
      "cell_type": "code",
      "execution_count": null,
      "metadata": {
        "id": "zumAd9fFGANA"
      },
      "outputs": [],
      "source": [
        "def pi_Taylor(n):\n",
        "    pi = 0\n",
        "    L =[]\n",
        "    for i in range(n):\n",
        "        pi = pi + 4.0/(2*i+1)*(-1)**i\n",
        "        L.append(pi)\n",
        "    fig = plt.figure(1, figsize=(8, 8))        \n",
        "#    plt.plot(y=3, color=\"red\", markersize=1) \n",
        "    plt.plot(L, color=\"red\", markersize=1)\n",
        "    plt.xlabel(\"Iteraciones\")\n",
        "    plt.ylabel(\"Estimación\")\n",
        "    plt.grid()\n",
        "    plt.show()"
      ]
    },
    {
      "cell_type": "code",
      "execution_count": null,
      "metadata": {
        "id": "XG2QIFKcGANA"
      },
      "outputs": [],
      "source": [
        "pi_Taylor(200)"
      ]
    },
    {
      "cell_type": "markdown",
      "metadata": {
        "id": "ZndWltATGANA"
      },
      "source": [
        "## Ejercicio 3:\n",
        "\n",
        "Graficar las salidas obtenidas en la Tarea 1"
      ]
    },
    {
      "cell_type": "code",
      "execution_count": null,
      "metadata": {
        "id": "xD8KriSdGANB"
      },
      "outputs": [],
      "source": [
        ""
      ]
    }
  ],
  "metadata": {
    "kernelspec": {
      "display_name": "Python 3",
      "language": "python",
      "name": "python3"
    },
    "language_info": {
      "codemirror_mode": {
        "name": "ipython",
        "version": 3
      },
      "file_extension": ".py",
      "mimetype": "text/x-python",
      "name": "python",
      "nbconvert_exporter": "python",
      "pygments_lexer": "ipython3",
      "version": "3.7.3"
    },
    "colab": {
      "name": "Copia de Uso de los números aleatorios.ipynb",
      "provenance": [],
      "include_colab_link": true
    }
  },
  "nbformat": 4,
  "nbformat_minor": 0
}