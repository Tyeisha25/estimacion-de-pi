{
  "cells": [
    {
      "cell_type": "markdown",
      "metadata": {
        "id": "view-in-github",
        "colab_type": "text"
      },
      "source": [
        "<a href=\"https://colab.research.google.com/github/Tyeisha25/estimacion-de-pi/blob/main/Copia_de_Uso_de_los_n%C3%BAmeros_aleatorios.ipynb\" target=\"_parent\"><img src=\"https://colab.research.google.com/assets/colab-badge.svg\" alt=\"Open In Colab\"/></a>"
      ]
    },
    {
      "cell_type": "markdown",
      "metadata": {
        "id": "LlXKB_IHlfe_"
      },
      "source": [
        "# Uso de los números aleatorios"
      ]
    },
    {
      "cell_type": "markdown",
      "metadata": {
        "id": "rgaXeTfZlffE"
      },
      "source": [
        "## 1. Introducción al Módulo random"
      ]
    },
    {
      "cell_type": "markdown",
      "metadata": {
        "id": "7dHkCHUnlffF"
      },
      "source": [
        "El módulo random de la librería estándar de Python incluye un conjunto de funciones que permiten obtener de distintos modos \n",
        "números pseudoaleatorios a través del algoritmo [Mersenne Twister](https://es.wikipedia.org/wiki/Mersenne_twister)."
      ]
    },
    {
      "cell_type": "code",
      "execution_count": null,
      "metadata": {
        "id": "cY17XHSrlffF"
      },
      "outputs": [],
      "source": [
        "#importamos el módulo que vamos a usar \n",
        "\n",
        "import random   "
      ]
    },
    {
      "cell_type": "markdown",
      "metadata": {
        "id": "hyQPSDO7lffH"
      },
      "source": [
        "Las funciones de los módulos se invocan con el formato: módulo.función().\n",
        "\n",
        "En el módulo random existe la función random, que devuelve un número aleatorio que sigue una distribución uniforme. \n",
        "\n",
        "Así, para obtener $x \\sim U(0,1)$:"
      ]
    },
    {
      "cell_type": "code",
      "execution_count": null,
      "metadata": {
        "id": "PHY1N0UwlffI",
        "outputId": "17021bb5-3c3c-4bb7-fbae-9c9fc86c0aa7",
        "colab": {
          "base_uri": "https://localhost:8080/"
        }
      },
      "outputs": [
        {
          "output_type": "stream",
          "name": "stdout",
          "text": [
            "0.7580862799906349\n"
          ]
        }
      ],
      "source": [
        "x = random.random()  #Cada ejecución dará un número distinto.\n",
        "print(x)"
      ]
    },
    {
      "cell_type": "markdown",
      "metadata": {
        "id": "XvlMpFldlffI"
      },
      "source": [
        "Se puede usar algún bucle si se desea generar una secuencia $x_i \\sim U(0,1)$ con $i = 1, 2, 3,..., N$:"
      ]
    },
    {
      "cell_type": "code",
      "execution_count": null,
      "metadata": {
        "id": "lTC5hk1XlffJ",
        "outputId": "46d90efc-333e-4eda-b4f9-84351769beb4",
        "colab": {
          "base_uri": "https://localhost:8080/"
        }
      },
      "outputs": [
        {
          "output_type": "stream",
          "name": "stdout",
          "text": [
            "0.2141 0.5460 0.7497 0.1795 0.7034 0.6614 0.2538 0.4679 0.5961 0.4167 \n"
          ]
        }
      ],
      "source": [
        "for i in range(10):\n",
        "    print('%05.4f' % random.random(), end=' ')  #El código en rojo indica la cantidad de dígitos y de decimales a mostrar.\n",
        "print()"
      ]
    },
    {
      "cell_type": "code",
      "execution_count": null,
      "metadata": {
        "id": "Ar9fl8e3lffK",
        "outputId": "345927b2-01b5-4df7-d848-16c652be9a4d",
        "colab": {
          "base_uri": "https://localhost:8080/"
        }
      },
      "outputs": [
        {
          "output_type": "stream",
          "name": "stdout",
          "text": [
            "0.4448\n",
            "0.2839\n",
            "0.2487\n",
            "0.5333\n",
            "0.7205\n",
            "0.9579\n",
            "0.6148\n",
            "0.0843\n",
            "0.3303\n",
            "0.7374\n",
            "\n"
          ]
        }
      ],
      "source": [
        "for i in range(10):\n",
        "    print('%05.4f' % random.random(), sep=\"\\t\")\n",
        "print()"
      ]
    },
    {
      "cell_type": "markdown",
      "metadata": {
        "id": "KCWQ7hALlffL"
      },
      "source": [
        "La función seed() fija el valor de la semilla en la generación de la secuencia de números aleatorios. \n",
        "Esto es útil cuando se quieren utilizar los mismos datos de entrada en una simulación."
      ]
    },
    {
      "cell_type": "code",
      "execution_count": null,
      "metadata": {
        "id": "NTMpzJn6lffM",
        "outputId": "633c0698-4ba8-4d10-b279-44f033b2a31c",
        "colab": {
          "base_uri": "https://localhost:8080/"
        }
      },
      "outputs": [
        {
          "output_type": "stream",
          "name": "stdout",
          "text": [
            "0.1344 0.8474 0.7638 0.2551 0.4954 0.4495 0.6516 0.7887 0.0939 0.0283 0.8358 0.4328 0.7623 0.0021 0.4454 0.7215 0.2288 0.9453 0.9014 0.0306 \n"
          ]
        }
      ],
      "source": [
        "random.seed(1) #primero fijamos la semilla\n",
        "\n",
        "for i in range(20):\n",
        "    print('%05.4f' % random.random(), end=' ')\n",
        "print()"
      ]
    },
    {
      "cell_type": "markdown",
      "metadata": {
        "id": "SU-nMN0dlffM"
      },
      "source": [
        "## Ejercicio 1: \n",
        "    a)Usar la función random() para simular 1 volado.\n",
        "    b)Usar la función random() para simular 1000 volados.\n",
        "    c)Determinar de b) la probabilidad de que ocurra \"sol\" en un volado. "
      ]
    },
    {
      "cell_type": "markdown",
      "metadata": {
        "id": "czikTOEslffM"
      },
      "source": [
        "La función uniform() devuelve un número float incluido entre los valores indicados."
      ]
    },
    {
      "cell_type": "code",
      "execution_count": null,
      "metadata": {
        "id": "QyliIxU9lffN",
        "outputId": "a1696114-68d3-4343-fddb-9ab03a46b70f",
        "colab": {
          "base_uri": "https://localhost:8080/"
        }
      },
      "outputs": [
        {
          "output_type": "stream",
          "name": "stdout",
          "text": [
            "2.2468 27.5292 47.0183 19.6790 11.6134 21.6837 2.4230 11.8629 22.4565 25.2948 \n"
          ]
        }
      ],
      "source": [
        "for i in range(10):\n",
        "    print('%5.4f' %random.uniform(1, 50), end=' ')\n",
        "print()"
      ]
    },
    {
      "cell_type": "markdown",
      "metadata": {
        "id": "6Yuzq-x9lffN"
      },
      "source": [
        "La función randint() devuelve un número entero incluido entre los valores indicados. \n",
        "Los valores de los límites inferior y superior también pueden aparecer entre los valores devueltos."
      ]
    },
    {
      "cell_type": "code",
      "execution_count": null,
      "metadata": {
        "id": "MyU_QZuXlffO",
        "outputId": "b27b86e5-ea26-48fb-f71a-b64c0eeee398",
        "colab": {
          "base_uri": "https://localhost:8080/"
        }
      },
      "outputs": [
        {
          "output_type": "stream",
          "name": "stdout",
          "text": [
            "-41 -12 -41 73 -44 94 17 -26 -95 6 42 64 -75 -53 61 85 -25 -70 90 -15 \n"
          ]
        }
      ],
      "source": [
        "for i in range(20):\n",
        "    print(random.randint(-100, 100), end=' ')\n",
        "print()"
      ]
    },
    {
      "cell_type": "markdown",
      "metadata": {
        "id": "oSRVv_2wlffO"
      },
      "source": [
        "## Ejercicio 2:\n",
        "    a) Simular un sorteo de los colores blanco, negro, rojo, azul y verde.\n",
        "    b) Simular 5 sorteos con sustitución."
      ]
    },
    {
      "cell_type": "markdown",
      "metadata": {
        "id": "994XhNu5lffO"
      },
      "source": [
        "La función randrange() devuelve enteros que van desde un valor inicial a otro final \n",
        "separados entre sí un número de valores determinados."
      ]
    },
    {
      "cell_type": "code",
      "execution_count": null,
      "metadata": {
        "id": "9uO2u5Q1lffP",
        "outputId": "d49849bb-ebe9-46a4-b6f4-098122e3d131",
        "colab": {
          "base_uri": "https://localhost:8080/"
        }
      },
      "outputs": [
        {
          "output_type": "stream",
          "name": "stdout",
          "text": [
            "15 15 12 9 12 18 15 3 6 6 12 9 18 12 9 12 18 0 9 3 \n"
          ]
        }
      ],
      "source": [
        "for i in range(20):\n",
        "    print(random.randrange(0, 20, 3), end=' ')\n",
        "print()"
      ]
    },
    {
      "cell_type": "markdown",
      "metadata": {
        "id": "yWQy5-kBlffP"
      },
      "source": [
        "# 2. Estimación del número $\\pi$"
      ]
    },
    {
      "cell_type": "code",
      "execution_count": null,
      "metadata": {
        "id": "jMMj8BzLlffP"
      },
      "outputs": [],
      "source": [
        "import matplotlib.pyplot as plt\n",
        "import numpy as np"
      ]
    },
    {
      "cell_type": "code",
      "execution_count": null,
      "metadata": {
        "id": "X06Fred4lffQ",
        "outputId": "c91f78ec-23c9-4795-acab-9ef49127afc9",
        "colab": {
          "base_uri": "https://localhost:8080/",
          "height": 514
        }
      },
      "outputs": [
        {
          "output_type": "display_data",
          "data": {
            "image/png": "[encoded data removed]",
            "text/plain": [
              "<Figure size 576x576 with 1 Axes>"
            ]
          },
          "metadata": {
            "needs_background": "light"
          }
        }
      ],
      "source": [
        "x = np.linspace(0, 1, 100)\n",
        "y = np.sqrt(1 - x**2)               # Ecuación del círculo en el primer cuadrante \n",
        "\n",
        "\n",
        "x_1 = random.random()\n",
        "y_1 = random.random()\n",
        "\n",
        "fig = plt.figure(1, figsize=(8, 8))        # Aquí fijamos el formato de la gráfica para que sea cuadrada.\n",
        "plt.plot(x, y, color=\"red\", markersize=1) \n",
        "plt.scatter(x_1, y_1, s=20, c=\"blue\")\n",
        "plt.title(\"Estimación de $\\pi$\")\n",
        "plt.xlabel(\"X\")\n",
        "plt.ylabel(\"Y\")\n",
        "plt.grid()\n",
        "plt.show()"
      ]
    },
    {
      "cell_type": "markdown",
      "metadata": {
        "id": "dhPslAbJlffR"
      },
      "source": [
        "# Tarea 1. \n",
        "    Estimar el valor de pi usando la función random"
      ]
    },
    {
      "cell_type": "code",
      "execution_count": null,
      "metadata": {
        "id": "OEkv6cYrlffR"
      },
      "outputs": [],
      "source": [
        ""
      ]
    },
    {
      "cell_type": "markdown",
      "metadata": {
        "id": "RTmBTjoflffR"
      },
      "source": [
        "## La aproximación analítica"
      ]
    },
    {
      "cell_type": "markdown",
      "metadata": {
        "id": "To_qPQ9blffS"
      },
      "source": [
        "Partamos de la ecuación:\n",
        "\n",
        "##     $\\pi = 4\\arctan 1$\n",
        "\n",
        "y usemos la aproximación de Taylor para expandir en una serie de potencias.\n",
        "\n",
        "Recordar:\n",
        "\n",
        "$f(x) = f(0) + f´(x)x + \\frac{1}{2}f´´(0)x^2 + ...$\n",
        "\n",
        "$Si f(x) = \\arctan x$ entonces:\n",
        "\n",
        "$f´(x) = \\frac{d \\arctan x}{dx} = \\frac{1}{1 + x^2} \\rightarrow f´(0) = 1$\n",
        "\n",
        "$f´´(x) = \\frac{d^2 \\arctan x}{d^2x} = - \\frac{2x}{(1 + x^2)^2} \\rightarrow f´´(0) = 0$\n",
        "\n",
        "...\n",
        "\n",
        "$f^{2i + 1}(x) = (-1)^{i} \\frac{(2i)!}{(1 + x^2)^{2i + 1}} \\rightarrow f^{2i + 1}(0) = (-1)(2i)!$\n",
        "\n",
        "$f^{2i}(x) = 0$\n",
        "\n",
        "Entonces:\n",
        "\n",
        "$\\arctan x = \\sum_{i = 0} (-1)^{i} \\frac{x^{2i + 1}}{2i + 1}$\n",
        "\n",
        "Por tanto:\n",
        "\n",
        "## $\\pi = \\sum_{i = 0} (-1)^{i} \\frac{4}{2i + 1}$"
      ]
    },
    {
      "cell_type": "code",
      "execution_count": null,
      "metadata": {
        "id": "6Ex40K0ylffS"
      },
      "outputs": [],
      "source": [
        "def pi_taylor(n):\n",
        "    pi = 0\n",
        "    for i in range(n):\n",
        "        pi = pi + 4.0/(2*i+1)*(-1)**i\n",
        "        print(i, pi)"
      ]
    },
    {
      "cell_type": "code",
      "execution_count": null,
      "metadata": {
        "id": "eKhnl1KLlffS",
        "outputId": "78c9036c-bdd2-47ab-e06e-0c91192a6511",
        "colab": {
          "base_uri": "https://localhost:8080/"
        }
      },
      "outputs": [
        {
          "output_type": "stream",
          "name": "stdout",
          "text": [
            "0 4.0\n",
            "1 2.666666666666667\n",
            "2 3.466666666666667\n",
            "3 2.8952380952380956\n",
            "4 3.3396825396825403\n",
            "5 2.9760461760461765\n",
            "6 3.2837384837384844\n",
            "7 3.017071817071818\n",
            "8 3.2523659347188767\n",
            "9 3.0418396189294032\n"
          ]
        }
      ],
      "source": [
        "pi_taylor(10)"
      ]
    },
    {
      "cell_type": "code",
      "execution_count": null,
      "metadata": {
        "id": "cn3rAVxklffS"
      },
      "outputs": [],
      "source": [
        "def pi_Taylor(n):\n",
        "    pi = 0\n",
        "    L =[]\n",
        "    for i in range(n):\n",
        "        pi = pi + 4.0/(2*i+1)*(-1)**i\n",
        "        L.append(pi)\n",
        "    fig = plt.figure(1, figsize=(8, 8))        \n",
        "#    plt.plot(y=3, color=\"red\", markersize=1) \n",
        "    plt.plot(L, color=\"red\", markersize=1)\n",
        "    plt.xlabel(\"Iteraciones\")\n",
        "    plt.ylabel(\"Estimación\")\n",
        "    plt.grid()\n",
        "    plt.show()"
      ]
    },
    {
      "cell_type": "code",
      "execution_count": null,
      "metadata": {
        "id": "9DL8ksHilffT",
        "outputId": "8986efa7-29ea-43e9-ebff-3e8be5ef1d25",
        "colab": {
          "base_uri": "https://localhost:8080/",
          "height": 497
        }
      },
      "outputs": [
        {
          "output_type": "display_data",
          "data": {
            "image/png": "[encoded data removed]",
            "text/plain": [
              "<Figure size 576x576 with 1 Axes>"
            ]
          },
          "metadata": {
            "needs_background": "light"
          }
        }
      ],
      "source": [
        "pi_Taylor(200)"
      ]
    },
    {
      "cell_type": "markdown",
      "metadata": {
        "id": "Ikluknu1lffT"
      },
      "source": [
        "## Ejercicio 3:\n",
        "\n",
        "Graficar las salidas obtenidas en la Tarea 1"
      ]
    },
    {
      "cell_type": "code",
      "execution_count": null,
      "metadata": {
        "id": "WvOGbwPolffV"
      },
      "outputs": [],
      "source": [
        "import matplotlib.pyplot as plt\n",
        "import numpy as np"
      ]
    },
    {
      "cell_type": "code",
      "source": [
        "x = np.linspace(-1, 1, 100)\n",
        "y = -np.sqrt(1 - x**2)    # Ecuación del círculo en el primer cuadrante \n",
        "x1 = np.linspace(-1, 1, 100)\n",
        "y1 = np.sqrt(1 - x**2)    # Ecuación del círculo en el primer cuadrante \n",
        "z=1000\n",
        "\n",
        "puntosx=[]\n",
        "puntosy=[]\n",
        "afuera=0\n",
        "adentro=0\n",
        "\n",
        "for i in range(z):\n",
        "  puntosx.append(random.uniform(-1,1))\n",
        "  puntosy.append(random.uniform(-1,1))\n",
        "\n",
        "fig = plt.figure(1, figsize=(8, 8))        # Aquí fijamos el formato de la gráfica para que sea cuadrada.\n",
        "plt.plot(x, y, color=\"red\", markersize=1) \n",
        "plt.plot(x1, y1, color=\"red\", markersize=1) \n",
        "for i in range(z):\n",
        "  plt.scatter(puntosx[i], puntosy[i], s=20, c=\"blue\")\n",
        "  if ((puntosx[i])*(puntosx[i]))+((puntosy[i])*(puntosy[i]))>=1:\n",
        "    afuera=afuera+1\n",
        "  else:\n",
        "    adentro=adentro+1\n",
        "plt.title(\"Estimación de $\\pi$\")\n",
        "plt.xlabel(\"X\")\n",
        "plt.ylabel(\"Y\")\n",
        "plt.grid()\n",
        "plt.show()\n",
        "\n",
        "print(afuera,adentro)\n",
        "print((adentro/(adentro+afuera))*4)"
      ],
      "metadata": {
        "id": "1aqqDnsmmD9D",
        "outputId": "52514111-6d34-4a3c-ded8-26982b922be6",
        "colab": {
          "base_uri": "https://localhost:8080/",
          "height": 549
        }
      },
      "execution_count": null,
      "outputs": [
        {
          "output_type": "display_data",
          "data": {
            "image/png": "[encoded data removed]",
            "text/plain": [
              "<Figure size 576x576 with 1 Axes>"
            ]
          },
          "metadata": {
            "needs_background": "light"
          }
        },
        {
          "output_type": "stream",
          "name": "stdout",
          "text": [
            "210 790\n",
            "3.16\n"
          ]
        }
      ]
    }
  ],
  "metadata": {
    "kernelspec": {
      "display_name": "Python 3",
      "language": "python",
      "name": "python3"
    },
    "language_info": {
      "codemirror_mode": {
        "name": "ipython",
        "version": 3
      },
      "file_extension": ".py",
      "mimetype": "text/x-python",
      "name": "python",
      "nbconvert_exporter": "python",
      "pygments_lexer": "ipython3",
      "version": "3.7.3"
    },
    "colab": {
      "name": "Copia de Uso de los números aleatorios.ipynb",
      "provenance": [],
      "include_colab_link": true
    }
  },
  "nbformat": 4,
  "nbformat_minor": 0
}