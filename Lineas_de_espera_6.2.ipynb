{
  "nbformat": 4,
  "nbformat_minor": 0,
  "metadata": {
    "colab": {
      "name": "Untitled4.ipynb",
      "provenance": []
    },
    "kernelspec": {
      "name": "python3",
      "display_name": "Python 3"
    },
    "language_info": {
      "name": "python"
    }
  },
  "cells": [
    {
      "cell_type": "code",
      "execution_count": 81,
      "metadata": {
        "colab": {
          "base_uri": "https://localhost:8080/"
        },
        "id": "WtWei3GNu4hz",
        "outputId": "8ca16fe3-abd8-48ab-87a9-6e161f7d6f7f"
      },
      "outputs": [
        {
          "output_type": "stream",
          "name": "stdout",
          "text": [
            "en el tiempo 3.9160897451618912 se tienen 1 clientes en cola y se han tenido en total 2 clientes\n",
            "en el tiempo 4.6225063195907925 se tienen 0 clientes en cola y se han tenido en total 2 clientes\n",
            "en el tiempo 6.579339043850703 se tienen 1 clientes en cola y se han tenido en total 3 clientes\n",
            "en el tiempo 6.907699608955907 se tienen 2 clientes en cola y se han tenido en total 4 clientes\n",
            "en el tiempo 7.078271245609869 se tienen 3 clientes en cola y se han tenido en total 5 clientes\n",
            "en el tiempo 12.519481490287342 se tienen 2 clientes en cola y se han tenido en total 5 clientes\n",
            "quedan 1 clientes y estamos en el tiempo 15.985819999823718\n",
            "quedan 0 clientes y estamos en el tiempo 19.409157671813144\n"
          ]
        }
      ],
      "source": [
        "import numpy as np\n",
        "import random \n",
        "media=.5\n",
        "lam=.5\n",
        "t=0 #tiempo transcurrido \n",
        "T=10 #tiempo que tienen los clientes para llegar \n",
        "x=-(1/media)*np.log(random.random())\n",
        "#print(\"entrada 0\",x)\n",
        "a=10000\n",
        "n=0 #cola\n",
        "N=1 #clientes totales\n",
        "while t<T:\n",
        "  if x<a:\n",
        "    t=x\n",
        "    x=t-(1/media)*np.log(random.random())\n",
        "    N=N+1\n",
        "    n=n+1\n",
        "    #print(\"entrada\",x,n)\n",
        "    if n==1:\n",
        "      a=t-(1/lam)*np.log(random.random())\n",
        "      #print(\"salida 1\",a,n)\n",
        "  else:\n",
        "    t=a\n",
        "    n=n-1\n",
        "    if n>0:\n",
        "      a=t-(1/lam)*np.log(random.random())\n",
        "    else:\n",
        "      a=1000\n",
        "    #print(\"salida 2\",a,n)\n",
        "  print(\"en el tiempo\",t,\"se tienen\",n,\"clientes en cola y se han tenido en total\",N,\"clientes\")\n",
        "\n",
        "while n>0:\n",
        "  a=t-(1/lam)*np.log(random.random())\n",
        "  t=a\n",
        "  n=n-1\n",
        "  print(\"quedan\",n,\"clientes y estamos en el tiempo\",t)"
      ]
    },
    {
      "cell_type": "code",
      "source": [
        ""
      ],
      "metadata": {
        "id": "Dl42Z3VnNjG6"
      },
      "execution_count": null,
      "outputs": []
    }
  ]
}