{
  "nbformat": 4,
  "nbformat_minor": 0,
  "metadata": {
    "colab": {
      "name": "Untitled8.ipynb",
      "provenance": []
    },
    "kernelspec": {
      "name": "python3",
      "display_name": "Python 3"
    },
    "language_info": {
      "name": "python"
    }
  },
  "cells": [
    {
      "cell_type": "code",
      "source": [
        "from random import expovariate\n",
        "import random\n",
        "from statistics import mean\n",
        "from math import inf as Infinity\n",
        "from random import seed\n",
        "from matplotlib.pyplot import *"
      ],
      "metadata": {
        "id": "I7p__HbLcrNK"
      },
      "execution_count": 46,
      "outputs": []
    },
    {
      "cell_type": "code",
      "source": [
        "#aqui se define la función para el programa que calcula:\n",
        "#retrazo promedio \n",
        "#numero medio de clientes en el sistema \n",
        "#las probablidades de los clientes\n",
        "#a es para el catalogo\n",
        "def linea_de_espera(lamda,mu,a):\n",
        "\n",
        "  Num_Pkts = 100000                  # Numero de paquetes a simular\n",
        "  #T = 100000\n",
        "  count = 0                           # Contador de paquetes simulados\n",
        "  t = 0\n",
        "  N = 0                               # Variable de estado: numero de paquetes en el sistema\n",
        "\n",
        "  tll = expovariate(lamda)            # Tiempo de llegada\n",
        "  ts = Infinity                       # Tiempo de salida\n",
        "  t_evento_anterior = 0.0             # tiempo del último evento ****************Nuevas líneas de código***********\n",
        "\n",
        "  # Variables de salida\n",
        "  tll_Data = []                       # Lista de tiempos de llegada\n",
        "  ts_Data = []                        # Lista de tiempos de salida\n",
        "  r_Data = []                         # Lista de retrasos individuales\n",
        "  tc_Data =[]                         #Lista de tiempos en caja\n",
        "  tf_Data=[]                          #lista de tiempos en fila\n",
        "\n",
        "  Data = {}                           # Diccionario *****************************************************************\n",
        "\n",
        "  while count < Num_Pkts:\n",
        "  #while t < T:\n",
        "      if tll < ts:                           # Evento de llegada\n",
        "          t = tll\n",
        "        \n",
        "        # longitud del intervalo entre llegadas *********************************************************************\n",
        "          delta = t - t_evento_anterior\n",
        "          if N in Data: \n",
        "              Data[N] += delta\n",
        "          else:\n",
        "              Data[N] = delta\n",
        "          t_evento_anterior = t\n",
        "        \n",
        "          tll_Data.append(t)\n",
        "          N = N + 1.0\n",
        "          tll = t + expovariate(lamda) \n",
        "          if N == 1:\n",
        "              tc=expovariate(mu)\n",
        "              ts = t + tc\n",
        "              tc_Data.append(tc)\n",
        "      else:                                         # Evento de salida\n",
        "          t = ts\n",
        "        \n",
        "          # Longitud del intervalo de tiempo **************************************************************************\n",
        "          delta = t - t_evento_anterior\n",
        "          if N in Data:\n",
        "              Data[N] += delta\n",
        "          else:\n",
        "              Data[N] = delta\n",
        "          t_evento_anterior = t\n",
        "        \n",
        "          ts_Data.append(t)\n",
        "          N = N - 1.0\n",
        "          count = count + 1                         # Paquetes simulados\n",
        "          if N > 0:\n",
        "              tc=expovariate(mu)\n",
        "              ts = t + tc\n",
        "              tc_Data.append(tc)\n",
        "          else:\n",
        "              ts = Infinity\n",
        "\n",
        "##################################### se procesan los datos de salida ########################################\n",
        "          \n",
        "  # Estimación de la probabilidad de P(N=k):\n",
        "  for (key, value) in Data.items():\n",
        "      Data[key] = value/t\n",
        "\n",
        "  # Se verifica que la probabilidad total es 1.0\n",
        "\n",
        "  #print('Suma de probabilidades =', sum(Data.values()))\n",
        "  media = 0.0\n",
        "  media2=0.0\n",
        "  medial=[]\n",
        "  for (key, value) in Data.items():\n",
        "                                                                                # Se verifican los valores de expectación \n",
        "        media = media + key*value\n",
        "        #print(key, round(value, 4))\n",
        "        if (key-1)>=1:                                                          #con este if se calcula lq\n",
        "          media2= media2 + (key-1.0)*value\n",
        "        medial.append(value)\n",
        "                                                                                #la lista medial tiene los valores de las probabilidades de la fila \n",
        "\n",
        " #este es un catalogo para que puedas pedir lo que necesites desde la funcion \n",
        " #1-retraso promedio \n",
        " #2-numero medio de clientes en el sistema \n",
        " #3-probabilidad de que se forme cola    \n",
        "  if a==1:\n",
        "      # Estimación del retraso promedio:\n",
        "    for i in range(Num_Pkts):\n",
        "    #for i in range(T):\n",
        "        d = ts_Data[i] - tll_Data[i]            #retrazo en sistema\n",
        "        d2= ts_Data[i] - tll_Data[i]-tc_Data[i] #retrazo en fila\n",
        "        tf_Data.append(d2)\n",
        "        r_Data.append(d)\n",
        "    print( \"Retraso promedio=W = \", round( mean(r_Data), 4) )\n",
        "    print(\"Tiempo en fila=W_q=\",mean(tf_Data))\n",
        "  elif a==2:\n",
        "    print('E[N]=L = ', media)\n",
        "    print(\"L_q=\",media2)\n",
        "  else:\n",
        "    print('probabilidad de que se forme cola =', sum(Data.values())-medial[0])\n",
        "    print(\"probabilidad de que esta vacio=\",medial[0])"
      ],
      "metadata": {
        "id": "VkssHFFycsWV"
      },
      "execution_count": 47,
      "outputs": []
    },
    {
      "cell_type": "markdown",
      "source": [
        "**1.En la biblioteca**\n",
        "\n",
        "Un encargado de la biblioteca es el único en el mostrador durante todo su turno de trabajo.\n",
        "Las llegadas al mostrador siguen una distribución de Poisson con una media de 8 por hora.\n",
        "Cada usuario de la biblioteca es atendido de uno en uno, y el tiempo de servicio sigue una\n",
        "distribución exponencial con una media de 5 minutos.\n",
        "\n",
        "a) ¿Cuál es la probabilidad de que se forme cola?\n",
        "\n",
        "b) ¿Cuál es la longitud media de la cola?\n",
        "\n",
        "c) ¿Cuál es el tiempo medio que un cliente pasa en la biblioteca hasta que le han\n",
        "atendido?\n",
        "\n",
        "d) ¿Cuál es el tiempo medio que un cliente pasa en la cola esperando a que le atiendan?\n",
        "\n",
        "e) El encargado de la biblioteca pasa su tiempo en que no hay clientes clasificando artículos\n",
        "de revistas. Si puede clasificar 22 fichas por hora como media cuando trabaja continuamente,\n",
        "¿cuántas fichas puede ordenar durante su trabajo?"
      ],
      "metadata": {
        "id": "ApJtPVGQZz8n"
      }
    },
    {
      "cell_type": "markdown",
      "source": [
        "> lamda aqui es 8 cliente por hora\n",
        "\n",
        "> mu aqui es 12 clientes por hora \n",
        "\n"
      ],
      "metadata": {
        "id": "QkzU3aF5aNhj"
      }
    },
    {
      "cell_type": "markdown",
      "source": [
        "a) ¿Cuál es la probabilidad de que se forme cola?\n",
        "\n",
        "iniciamos calculandolo con el programa, a=3. "
      ],
      "metadata": {
        "id": "3McE60W6xBJj"
      }
    },
    {
      "cell_type": "code",
      "source": [
        "a=linea_de_espera(8,12,3) "
      ],
      "metadata": {
        "colab": {
          "base_uri": "https://localhost:8080/"
        },
        "id": "PiZeJCCrgovw",
        "outputId": "29a36d13-90dd-4959-b64e-0a0355a35aaf"
      },
      "execution_count": 48,
      "outputs": [
        {
          "output_type": "stream",
          "name": "stdout",
          "text": [
            "probabilidad de que se forme cola = 0.6656623024445326\n",
            "probabilidad de que esta vacio= 0.3343376975554674\n"
          ]
        }
      ]
    },
    {
      "cell_type": "markdown",
      "source": [
        "Ahora lo calcularemos con las formulas:\n",
        "\n",
        "$$ρ=\\frac{λ}{μ}=\\frac{8}{12}=\\frac{2}{3}=0.6667$$"
      ],
      "metadata": {
        "id": "BtFz-kg0Edct"
      }
    },
    {
      "cell_type": "markdown",
      "source": [
        "b) ¿Cuál es la longitud media de la cola?\n",
        "\n",
        "Iniciamos de nuevo con el programa, a=2"
      ],
      "metadata": {
        "id": "LgXTvxPzHDk8"
      }
    },
    {
      "cell_type": "code",
      "source": [
        "b=linea_de_espera(8,12,2)"
      ],
      "metadata": {
        "colab": {
          "base_uri": "https://localhost:8080/"
        },
        "id": "UfzTVoUVKGj8",
        "outputId": "66770f93-6b91-4725-8fad-d452599e70f4"
      },
      "execution_count": 49,
      "outputs": [
        {
          "output_type": "stream",
          "name": "stdout",
          "text": [
            "E[N]=L =  1.9923382346702183\n",
            "L_q= 1.3225718855461577\n"
          ]
        }
      ]
    },
    {
      "cell_type": "markdown",
      "source": [
        "Ahora lo calcularemos con las formulas:\n",
        "\n",
        "$$L_q=λW_q=λ(W-\\frac{1}{μ})$$"
      ],
      "metadata": {
        "id": "dtGR9_o_KQV3"
      }
    },
    {
      "cell_type": "code",
      "source": [
        "b2=linea_de_espera(8,12,1)"
      ],
      "metadata": {
        "colab": {
          "base_uri": "https://localhost:8080/"
        },
        "id": "YXUM8QTmWQBn",
        "outputId": "5dfdae00-0863-4469-9462-a2a032e8579d"
      },
      "execution_count": 50,
      "outputs": [
        {
          "output_type": "stream",
          "name": "stdout",
          "text": [
            "Retraso promedio=W =  0.2476\n",
            "Tiempo en fila=W_q= 0.16423104239549427\n"
          ]
        }
      ]
    },
    {
      "cell_type": "markdown",
      "source": [
        "Con el programa calculamos W y seguimos con el calculo:\n",
        "\n",
        "$$L_q=λW_q=λ(W-\\frac{1}{μ})=8(0.25-\\frac{1}{12})=8(0.1698)=1.333$$"
      ],
      "metadata": {
        "id": "BBoEG24QOo35"
      }
    },
    {
      "cell_type": "markdown",
      "source": [
        "c) ¿Cuál es el tiempo medio que un cliente pasa en la biblioteca hasta que le han atendido?\n",
        "\n",
        "Calculamos con el programa, a=1"
      ],
      "metadata": {
        "id": "kYscHK8CZRqu"
      }
    },
    {
      "cell_type": "code",
      "source": [
        "c=linea_de_espera(8,12,1)"
      ],
      "metadata": {
        "colab": {
          "base_uri": "https://localhost:8080/"
        },
        "id": "KWrYHRF12pzP",
        "outputId": "d47da1ac-2a99-4727-e09f-88f458fdab11"
      },
      "execution_count": 51,
      "outputs": [
        {
          "output_type": "stream",
          "name": "stdout",
          "text": [
            "Retraso promedio=W =  0.2432\n",
            "Tiempo en fila=W_q= 0.15997514285457226\n"
          ]
        }
      ]
    },
    {
      "cell_type": "markdown",
      "source": [
        "Ahora lo calculamos con formulas y tenemos:\n",
        "\n",
        "$$W=W_q+\\frac{1}{μ}=0.167+\\frac{1}{12}=0.25$$"
      ],
      "metadata": {
        "id": "gsllmG5xah49"
      }
    },
    {
      "cell_type": "markdown",
      "source": [
        "d) ¿Cuál es el tiempo medio que un cliente pasa en la cola esperando a que le atiendan?\n",
        "\n",
        "Calculamos con el programa, a=1"
      ],
      "metadata": {
        "id": "PXJVHfne251t"
      }
    },
    {
      "cell_type": "code",
      "source": [
        "d=linea_de_espera(8,12,1)"
      ],
      "metadata": {
        "colab": {
          "base_uri": "https://localhost:8080/"
        },
        "id": "JIj3A1Oy3lCy",
        "outputId": "ddbf1bdf-bb75-4a41-876f-ef90951ce0f3"
      },
      "execution_count": 52,
      "outputs": [
        {
          "output_type": "stream",
          "name": "stdout",
          "text": [
            "Retraso promedio=W =  0.248\n",
            "Tiempo en fila=W_q= 0.1648053234084819\n"
          ]
        }
      ]
    },
    {
      "cell_type": "markdown",
      "source": [
        "Ahora lo calculamos con formulas y tenemos:\n",
        "\n",
        "$$W_q=W-\\frac{1}{μ}=0.25-\\frac{1}{12}=0.1666$$"
      ],
      "metadata": {
        "id": "H00ZdIjh3grV"
      }
    },
    {
      "cell_type": "markdown",
      "source": [
        "e) El encargado de la biblioteca pasa su tiempo en que no hay clientes clasificando artículos de revistas. Si puede clasificar 22 fichas por hora como media cuando trabaja continuamente, ¿cuántas fichas puede ordenar durante su trabajo?\n",
        "\n",
        "tenemos que la probabilidad de que no llegue nadie es(a=3):"
      ],
      "metadata": {
        "id": "MC955r4Z5YlN"
      }
    },
    {
      "cell_type": "code",
      "source": [
        "e=linea_de_espera(8,12,3)"
      ],
      "metadata": {
        "colab": {
          "base_uri": "https://localhost:8080/"
        },
        "id": "pAF525cl-gsp",
        "outputId": "af24a411-c9a6-492f-e597-c1dede435ff2"
      },
      "execution_count": 53,
      "outputs": [
        {
          "output_type": "stream",
          "name": "stdout",
          "text": [
            "probabilidad de que se forme cola = 0.6656506636511434\n",
            "probabilidad de que esta vacio= 0.33434933634885655\n"
          ]
        }
      ]
    },
    {
      "cell_type": "markdown",
      "source": [
        "Entonces tendriamos que el valor esperado de fichas clasificadas estaria dado por la probabilidad de que no halla nadie, multiplicado por las fichas que se hacen por hora. \n",
        "\n",
        "$$E(fichas por hora)=0.33*22=7.26$$"
      ],
      "metadata": {
        "id": "_uQ9aeEu_Q-L"
      }
    },
    {
      "cell_type": "code",
      "source": [
        "#este programa tiene un linea de espera con un maximo en fila\n",
        "#sus parametros extras son el maximo en la fila y el tiempo total \n",
        "#regresa la cantidad de clientes sin atender \n",
        "#se necesita el lambda, mu, el maximo en fila y el total de tiempo que se trabajara \n",
        "def linea_de_espera_2(lamda,mu,mfila,ttotal):\n",
        "\n",
        "#Num_Pkts = 10                   # Numero de paquetes a simular\n",
        "  T = ttotal                          #tiempo maximo \n",
        "  count = 0                           # Contador de paquetes simulados\n",
        "  t = 0\n",
        "  N = 0                               # Variable de estado: numero de paquetes en el sistema\n",
        "  CNA=0                               #Clientes no atendidos\n",
        "\n",
        "  tll =- ((1/lamda)*np.log(random.random()))       # Tiempo de llegada\n",
        "  ts = Infinity                       # Tiempo de salida\n",
        "  t_evento_anterior = 0.0             # tiempo del último evento ****************Nuevas líneas de código***********\n",
        "\n",
        "#while count < Num_Pkts:\n",
        "  while t < T:\n",
        "      if tll < ts:                           # Evento de llegada\n",
        "          t = tll\n",
        "        \n",
        "        # longitud del intervalo entre llegadas *********************************************************************\n",
        "          delta = t - t_evento_anterior\n",
        "          t_evento_anterior = t\n",
        "        \n",
        "          if N>=mfila:                                    #If que sirve para separar a los que no alcanzan a ser atendidos \n",
        "            CNA=CNA+1\n",
        "            #print(\"sin\",CNA)\n",
        "          else:\n",
        "            N = N + 1.0\n",
        "            #print(\"llegada\",N)\n",
        "          tll = t - ((1/lamda)*np.log(random.random())) \n",
        "          #print(tll)\n",
        "          if N == 1:\n",
        "              ts = t + expovariate(mu)\n",
        "      else:                                         # Evento de salida\n",
        "          t = ts\n",
        "        \n",
        "        # Longitud del intervalo de tiempo **************************************************************************\n",
        "          delta = t - t_evento_anterior\n",
        "        \n",
        "          N = N - 1.0\n",
        "          #print(\"salida\",N)\n",
        "          count = count + 1                        # Paquetes simulados\n",
        "          if N > 0:\n",
        "              ts = t + expovariate(mu)\n",
        "          else:\n",
        "              ts = Infinity\n",
        " \n",
        "  return CNA"
      ],
      "metadata": {
        "id": "g9uwchPJB-5d"
      },
      "execution_count": 54,
      "outputs": []
    },
    {
      "cell_type": "markdown",
      "source": [
        "# 2. Lavado de autos\n",
        "\n",
        "Un pequeño autoservicio de lavado que solo tienen capacidad para atender de uno en uno a los autos que llegan, tiene un aparcamiento para 10 coches, incluyendo el que está siendo lavado. La empresa ha estimado que los coches llegan siguiendo una distribución de Poisson con una media de 20 coches/hora, el tiempo de servicio sigue una distribución exponencial de 12 minutos. La empresa abre durante 10 horas al día. \n",
        "\n",
        "¿Cuál es la media de coches perdidos cada día debido a las limitaciones de espacio?\n",
        "\n",
        "Para el problema tendriamos un $$λ=20 autos/hora, μ=5 autos/hora y$$\n",
        " con un maximo de 10 autos en la fila\n",
        "\n",
        " Con el programa haremos un promedio para tener una media de autos que se quedaron sun atencion. "
      ],
      "metadata": {
        "id": "I77e-Vnd-Mhs"
      }
    },
    {
      "cell_type": "code",
      "source": [
        "#con este for mandaremos a llamar la funcion que calcula cuantos autos no fueron atendidos y los promedia en una lista \n",
        "media = []\n",
        "for i in range(10000):\n",
        "  media.append(linea_de_espera_2(20,5,10,10))\n",
        "print(\"promedio de autos sin atender\",mean(media))"
      ],
      "metadata": {
        "colab": {
          "base_uri": "https://localhost:8080/"
        },
        "id": "_0XnFlcAfFVI",
        "outputId": "2746de83-21e3-4eb8-ce49-16dbd6fe27da"
      },
      "execution_count": 55,
      "outputs": [
        {
          "output_type": "stream",
          "name": "stdout",
          "text": [
            "141.3839\n"
          ]
        }
      ]
    },
    {
      "cell_type": "code",
      "source": [
        "#aqui se define la función para el programa que calcula:\n",
        "#retrazo promedio \n",
        "#numero medio de clientes en el sistema \n",
        "#las probablidades de los clientes\n",
        "#a es para el catalogo\n",
        "#b es el tiempo del funcionamiento en dias \n",
        "#c es el pago por paquete \n",
        "# d es el pago de subcontratacion\n",
        "def linea_de_espera3(lamda,mu,a,b,c,d):\n",
        "\n",
        "  #Num_Pkts = 100000                  # Numero de paquetes a simular\n",
        "  T = b\n",
        "  count = 0                           # Contador de paquetes simulados\n",
        "  t = 0\n",
        "  N = 0                               # Variable de estado: numero de paquetes en el sistema\n",
        "\n",
        "  tll = expovariate(lamda)            # Tiempo de llegada\n",
        "  ts = Infinity                       # Tiempo de salida\n",
        "  t_evento_anterior = 0.0             # tiempo del último evento ****************Nuevas líneas de código***********\n",
        "\n",
        "  # Variables de salida\n",
        "  tll_Data = []                       # Lista de tiempos de llegada\n",
        "  ts_Data = []                        # Lista de tiempos de salida\n",
        "  r_Data = []                         # Lista de retrasos individuales\n",
        "  tc_Data =[]                         #Lista de tiempos en caja\n",
        "  tf_Data=[]                          #lista de tiempos en fila\n",
        "\n",
        "  Data = {}                           # Diccionario *****************************************************************\n",
        "\n",
        "  #while count < Num_Pkts:\n",
        "  while t < T:\n",
        "      if tll < ts:                           # Evento de llegada\n",
        "          t = tll\n",
        "        \n",
        "        # longitud del intervalo entre llegadas *********************************************************************\n",
        "          delta = t - t_evento_anterior\n",
        "          if N in Data: \n",
        "              Data[N] += delta\n",
        "          else:\n",
        "              Data[N] = delta\n",
        "          t_evento_anterior = t\n",
        "        \n",
        "          tll_Data.append(t)\n",
        "          N = N + 1.0\n",
        "          tll = t + expovariate(lamda) \n",
        "          if N == 1:\n",
        "              tc=expovariate(mu)\n",
        "              ts = t + tc\n",
        "              tc_Data.append(tc)\n",
        "      else:                                         # Evento de salida\n",
        "          t = ts\n",
        "        \n",
        "          # Longitud del intervalo de tiempo **************************************************************************\n",
        "          delta = t - t_evento_anterior\n",
        "          if N in Data:\n",
        "              Data[N] += delta\n",
        "          else:\n",
        "              Data[N] = delta\n",
        "          t_evento_anterior = t\n",
        "        \n",
        "          ts_Data.append(t)\n",
        "          N = N - 1.0\n",
        "          count = count + 1                         # Paquetes simulados\n",
        "          if N > 0:\n",
        "              tc=expovariate(mu)\n",
        "              ts = t + tc\n",
        "              tc_Data.append(tc)\n",
        "          else:\n",
        "              ts = Infinity\n",
        "\n",
        "##################################### se procesan los datos de salida ########################################\n",
        "\n",
        "\n",
        "  # Estimación de la probabilidad de P(N=k):\n",
        "  for (key, value) in Data.items():\n",
        "      Data[key] = value/t\n",
        "\n",
        "  # Se verifica que la probabilidad total es 1.0\n",
        "\n",
        "  #print('Suma de probabilidades =', sum(Data.values()))\n",
        "  media = 0.0\n",
        "  media2=0.0\n",
        "  medial=[]\n",
        "  for (key, value) in Data.items():\n",
        "                                                                                # Se verifican los valores de expectación \n",
        "        media = media + key*value\n",
        "        #print(key, round(value, 4))\n",
        "        if (key-1)>=1:                                                          #con este if se calcula lq\n",
        "          media2= media2 + (key-1.0)*value\n",
        "        medial.append(value)\n",
        "                                                                                #la lista medial tiene los valores de las probabilidades de la fila \n",
        "\n",
        " #este es un catalogo para que puedas pedir lo que necesites desde la funcion \n",
        " #1-retraso promedio \n",
        " #2-numero medio de clientes en el sistema \n",
        " #3-probabilidad de que se forme cola  \n",
        " #4-pago de los trabajo hechos \n",
        " #5-trabajados para subcontratar   \n",
        "  if a==1:\n",
        "    # Estimación del retraso promedio:\n",
        "    #for i in range(Num_Pkts):\n",
        "    for i in range(len(ts_Data)):\n",
        "        d = ts_Data[i] - tll_Data[i]          #retrazo en sistema\n",
        "        d2= ts_Data[i] - tll_Data[i]-tc_Data[i] #retrazo en fila\n",
        "        tf_Data.append(d2)\n",
        "        r_Data.append(d)\n",
        "    print( \"Retraso promedio=W = \", round( mean(r_Data), 4) )\n",
        "    print(\"Tiempo en fila=W_q=\",mean(tf_Data))\n",
        "  elif a==2:\n",
        "    print('E[N]=L = ', media)\n",
        "    print(\"L_q=\",media2)\n",
        "  elif a==3:\n",
        "    print('probabilidad de que se forme cola =', sum(Data.values())-medial[0])\n",
        "    print(\"probabilidad de que esta vacio=\",medial[0])\n",
        "  elif a==4:\n",
        "    return count*c\n",
        "  else:\n",
        "    return N*d"
      ],
      "metadata": {
        "id": "ZVmvNi28ArRn"
      },
      "execution_count": 56,
      "outputs": []
    },
    {
      "cell_type": "markdown",
      "source": [
        "# 3. John Macko\n",
        "\n",
        "John Macko es alumno en la U de Ozark. Hace trabajos extraños para aumentar sus ingresos. Las peticiones de trabajo llegan en promedio cada 5 días, pero el tiempo entre ellas es exponencial. El tiempo para terminar un trabajo también es exponencial, con una media de 4 días.\n",
        "\n",
        "a) ¿Cuál es la probabilidad de que le falte trabajo a John?\n",
        "\n",
        "b) Si John cobra unos \\$50 por cada trabajo, ¿cuál es su ingreso mensual promedio?\n",
        "\n",
        "c) Si al final del semestre John decide subcontratar los trabajos pendientes a $40 cada uno, ¿cuánto debe esperar pagar en promedio?"
      ],
      "metadata": {
        "id": "VKYYMeGpscne"
      }
    },
    {
      "cell_type": "markdown",
      "source": [
        "Para este problema tendremos un λ=0.2 trabajos por dia y μ=0.25 trabajos por dia\n",
        "\n",
        "a) ¿Cuál es la probabilidad de que le falte trabajo a John? (a=3)\n"
      ],
      "metadata": {
        "id": "q_zXfudQ4lTd"
      }
    },
    {
      "cell_type": "code",
      "source": [
        "a=linea_de_espera3(0.2,0.25,3,100,50,0)"
      ],
      "metadata": {
        "colab": {
          "base_uri": "https://localhost:8080/"
        },
        "id": "GOL_V4jZ322R",
        "outputId": "80d36c37-59f0-49b7-c083-19df69dd2d74"
      },
      "execution_count": 57,
      "outputs": [
        {
          "output_type": "stream",
          "name": "stdout",
          "text": [
            "probabilidad de que se forme cola = 0.734260967133504\n",
            "probabilidad de que esta vacio= 0.265739032866496\n"
          ]
        }
      ]
    },
    {
      "cell_type": "markdown",
      "source": [
        "Entonces la probabilidad de que no tenga trabajo es del 20% segun el programa. Con formulas tendriamos que:\n",
        "\n",
        "$$p_0=1-p=1-\\frac{λ}{μ}=1-\\frac{0.2}{0.25}=0.2$$\n",
        "\n",
        "Que coincide con lo obtenido en el programa. "
      ],
      "metadata": {
        "id": "nk3XeYwJ8BLQ"
      }
    },
    {
      "cell_type": "markdown",
      "source": [
        "b) Si John cobra unos $50 por cada trabajo, ¿cuál es su ingreso mensual promedio?\n",
        "\n",
        "calculamos el precio promedio con el programa: (a=4)"
      ],
      "metadata": {
        "id": "Y6thYh6L95oj"
      }
    },
    {
      "cell_type": "code",
      "source": [
        "#este for promedia el ingreso de John en 30 dias \n",
        "media=[]\n",
        "for i in range(10000):\n",
        "  media.append(linea_de_espera3(0.2,0.25,4,30,50,0))\n",
        "print(\"ingreso promedio\",mean(media))"
      ],
      "metadata": {
        "colab": {
          "base_uri": "https://localhost:8080/"
        },
        "id": "zKqPp_aJBmOu",
        "outputId": "8d0d7d7b-6c08-4645-bb1a-9fa64316f168"
      },
      "execution_count": 59,
      "outputs": [
        {
          "output_type": "stream",
          "name": "stdout",
          "text": [
            "ingreso promedio 230.165\n"
          ]
        }
      ]
    },
    {
      "cell_type": "markdown",
      "source": [
        "c) Si al final del semestre John decide subcontratar los trabajos pendientes a $40 cada uno, ¿cuánto debe esperar pagar en promedio? (a=5)"
      ],
      "metadata": {
        "id": "OYLF5huMIszU"
      }
    },
    {
      "cell_type": "code",
      "source": [
        "#con este for promediaremos el pago de los trabajos que el no termino despues de 182.5 dias \n",
        "media=[]\n",
        "for i in range(10000):\n",
        "  media.append(linea_de_espera3(0.2,0.25,5,182.5,50,40))\n",
        "print(\"pago promedio\",mean(media))"
      ],
      "metadata": {
        "colab": {
          "base_uri": "https://localhost:8080/"
        },
        "id": "MjeTD9LtJStw",
        "outputId": "58c9bd8d-53f6-4f58-9348-cf7874483109"
      },
      "execution_count": 327,
      "outputs": [
        {
          "output_type": "stream",
          "name": "stdout",
          "text": [
            "pago promedio 142.48\n"
          ]
        }
      ]
    }
  ]
}