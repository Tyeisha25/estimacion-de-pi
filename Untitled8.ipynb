{
  "nbformat": 4,
  "nbformat_minor": 0,
  "metadata": {
    "colab": {
      "name": "Untitled8.ipynb",
      "provenance": []
    },
    "kernelspec": {
      "name": "python3",
      "display_name": "Python 3"
    },
    "language_info": {
      "name": "python"
    }
  },
  "cells": [
    {
      "cell_type": "code",
      "source": [
        "from random import expovariate\n",
        "from statistics import mean\n",
        "from math import inf as Infinity\n",
        "from random import seed\n",
        "from matplotlib.pyplot import *"
      ],
      "metadata": {
        "id": "I7p__HbLcrNK"
      },
      "execution_count": null,
      "outputs": []
    },
    {
      "cell_type": "code",
      "source": [
        "#aqui se define la función para el programa que calcula:\n",
        "#retrazo promedio \n",
        "#numero medio de clientes en el sistema \n",
        "#las probablidades de los clientes \n",
        "def linea_de_espera(lamda,mu,a):\n",
        "  #lamda = 4.0                         # Razón de arrivos (1/Lambda)  Ojo\n",
        "  #mu = 6.0                            # Razón de salida (1/Mu)       Ojo\n",
        "\n",
        "\n",
        "  Num_Pkts = 100000                  # Numero de paquetes a simular\n",
        "  #T = 100000\n",
        "  count = 0                           # Contador de paquetes simulados\n",
        "  t = 0\n",
        "  N = 0                               # Variable de estado: numero de paquetes en el sistema\n",
        "\n",
        "  tll = expovariate(lamda)            # Tiempo de llegada\n",
        "  ts = Infinity                       # Tiempo de salida\n",
        "  t_evento_anterior = 0.0             # tiempo del último evento ****************Nuevas líneas de código***********\n",
        "\n",
        "  # Variables de salida\n",
        "  tll_Data = []                       # Lista de tiempos de llegada\n",
        "  ts_Data = []                        # Lista de tiempos de salida\n",
        "  r_Data = []                         # Lista de retrasos individuales\n",
        "  tf_Data =[]                         #Lista de tiempo en fila\n",
        "\n",
        "  Data = {}                           # Diccionario *****************************************************************\n",
        "\n",
        "  while count < Num_Pkts:\n",
        "  #while t < T:\n",
        "      if tll < ts:                           # Evento de llegada\n",
        "          t = tll\n",
        "        \n",
        "        # longitud del intervalo entre llegadas *********************************************************************\n",
        "          delta = t - t_evento_anterior\n",
        "          if N in Data: \n",
        "              Data[N] += delta\n",
        "          else:\n",
        "              Data[N] = delta\n",
        "          t_evento_anterior = t\n",
        "        \n",
        "          tll_Data.append(t)\n",
        "          N = N + 1.0\n",
        "          tll = t + expovariate(lamda) \n",
        "          if N == 1:\n",
        "              ts = t + expovariate(mu)\n",
        "      else:                                         # Evento de salida\n",
        "          t = ts\n",
        "        \n",
        "          # Longitud del intervalo de tiempo **************************************************************************\n",
        "          delta = t - t_evento_anterior\n",
        "          if N in Data:\n",
        "              Data[N] += delta\n",
        "          else:\n",
        "              Data[N] = delta\n",
        "          t_evento_anterior = t\n",
        "        \n",
        "          ts_Data.append(t)\n",
        "          N = N - 1.0\n",
        "          count = count + 1                         # Paquetes simulados\n",
        "          if N > 0:\n",
        "              ts = t + expovariate(mu)\n",
        "          else:\n",
        "              ts = Infinity\n",
        "\n",
        "##################################### se procesan los datos de salida ########################################\n",
        "            \n",
        "  # Estimación del retraso promedio:\n",
        "\n",
        "  for i in range(Num_Pkts):\n",
        "  #for i in range(T):\n",
        "      d = ts_Data[i] - tll_Data[i]\n",
        "      if i-1<Num_Pkts:\n",
        "        d2= ts_Data[i] - tll_Data[i]-ts_Data[i-1]\n",
        "        tf_Data.append(d2)\n",
        "      r_Data.append(d)\n",
        "      \n",
        "\n",
        "\n",
        "  # Estimación de la probabilidad de P(N=k):\n",
        "  for (key, value) in Data.items():\n",
        "      Data[key] = value/t\n",
        "\n",
        "  # Se verifica que la probabilidad total es 1.0\n",
        "\n",
        "  #print('Suma de probabilidades =', sum(Data.values()))\n",
        "  media = 0.0\n",
        "  media2=0.0\n",
        "  medial=[]\n",
        "  for (key, value) in Data.items():\n",
        "                                                                                # Se verifican los valores de expectación \n",
        "        media = media + key*value\n",
        "        if (key-1)>=1:                                                          #con este if se calcula lq\n",
        "          media2= media2 + (key-1.0)*value\n",
        "        medial.append(value)\n",
        "                                                                                #la lista medial tiene los valores de las probabilidades de la fila \n",
        "\n",
        " #este es un catalogo para que puedas pedir lo que necesites desde la funcion \n",
        " #1-retraso promedio \n",
        " #2-numero medio de clientes en el sistema \n",
        " #3-probabilidad de que se forme cola    \n",
        "  if a==1:\n",
        "    print( \"Retraso promedio=W = \", round( mean(r_Data), 4) )\n",
        "    print(\"Tiempo en fila=W_q=\",mean(tf_Data))\n",
        "  elif a==2:\n",
        "    print('E[N]=L = ', media)\n",
        "    print(\"L_q=\",media2)\n",
        "  else:\n",
        "    print('probabilidad de que se forme cola =', sum(Data.values())-medial[0])"
      ],
      "metadata": {
        "id": "VkssHFFycsWV"
      },
      "execution_count": 180,
      "outputs": []
    },
    {
      "cell_type": "markdown",
      "source": [
        "**1.En la biblioteca**\n",
        "\n",
        "Un encargado de la biblioteca es el único en el mostrador durante todo su turno de trabajo.\n",
        "Las llegadas al mostrador siguen una distribución de Poisson con una media de 8 por hora.\n",
        "Cada usuario de la biblioteca es atendido de uno en uno, y el tiempo de servicio sigue una\n",
        "distribución exponencial con una media de 5 minutos.\n",
        "\n",
        "a) ¿Cuál es la probabilidad de que se forme cola?\n",
        "\n",
        "b) ¿Cuál es la longitud media de la cola?\n",
        "\n",
        "c) ¿Cuál es el tiempo medio que un cliente pasa en la biblioteca hasta que le han\n",
        "atendido?\n",
        "\n",
        "d) ¿Cuál es el tiempo medio que un cliente pasa en la cola esperando a que le atiendan?\n",
        "\n",
        "e) El encargado de la biblioteca pasa su tiempo en que no hay clientes clasificando artículos\n",
        "de revistas. Si puede clasificar 22 fichas por hora como media cuando trabaja continuamente,\n",
        "¿cuántas fichas puede ordenar durante su trabajo?"
      ],
      "metadata": {
        "id": "ApJtPVGQZz8n"
      }
    },
    {
      "cell_type": "markdown",
      "source": [
        "> lamda aqui es 8 cliente por hora\n",
        "\n",
        "> mu aqui es 12 clientes por hora \n",
        "\n"
      ],
      "metadata": {
        "id": "QkzU3aF5aNhj"
      }
    },
    {
      "cell_type": "markdown",
      "source": [
        "a) ¿Cuál es la probabilidad de que se forme cola?\n",
        "\n",
        "iniciamos calculandolo con el programa, a=3. "
      ],
      "metadata": {
        "id": "3McE60W6xBJj"
      }
    },
    {
      "cell_type": "code",
      "source": [
        "a=linea_de_espera(8,12,3) "
      ],
      "metadata": {
        "colab": {
          "base_uri": "https://localhost:8080/"
        },
        "id": "PiZeJCCrgovw",
        "outputId": "1c0329de-a58d-4b83-b44f-31ffce542ef0"
      },
      "execution_count": 123,
      "outputs": [
        {
          "output_type": "stream",
          "name": "stdout",
          "text": [
            "probabilidad de que se forme cola = 0.46913113614019974\n"
          ]
        }
      ]
    },
    {
      "cell_type": "markdown",
      "source": [
        "Ahora lo calcularemos con las formulas:\n",
        "\n",
        "$$ρ=\\frac{λ}{μ}=\\frac{8}{12}=\\frac{2}{3}=0.6667$$"
      ],
      "metadata": {
        "id": "BtFz-kg0Edct"
      }
    },
    {
      "cell_type": "markdown",
      "source": [
        "b) ¿Cuál es la longitud media de la cola?\n",
        "\n",
        "Iniciamos de nuevo con el programa, a=2"
      ],
      "metadata": {
        "id": "LgXTvxPzHDk8"
      }
    },
    {
      "cell_type": "code",
      "source": [
        "b=linea_de_espera(8,12,2)"
      ],
      "metadata": {
        "colab": {
          "base_uri": "https://localhost:8080/"
        },
        "id": "UfzTVoUVKGj8",
        "outputId": "798fd2d1-32a7-4df6-e079-b5ebf5bca865"
      },
      "execution_count": 124,
      "outputs": [
        {
          "output_type": "stream",
          "name": "stdout",
          "text": [
            "E[N]=L =  2.1276045919341677\n",
            "L_q= 1.2621470100154166\n"
          ]
        }
      ]
    },
    {
      "cell_type": "markdown",
      "source": [
        "Ahora lo calcularemos con las formulas:\n",
        "\n",
        "$$L_q=λW_q=λ(W-\\frac{1}{μ})$$"
      ],
      "metadata": {
        "id": "dtGR9_o_KQV3"
      }
    },
    {
      "cell_type": "code",
      "source": [
        "c=linea_de_espera(8,12,1)"
      ],
      "metadata": {
        "colab": {
          "base_uri": "https://localhost:8080/"
        },
        "id": "YXUM8QTmWQBn",
        "outputId": "50d6921e-7356-4379-9757-5e469792ab7e"
      },
      "execution_count": 181,
      "outputs": [
        {
          "output_type": "stream",
          "name": "stdout",
          "text": [
            "Retraso promedio=W =  0.2437\n",
            "Tiempo en fila=W_q= -6266.635378447476\n"
          ]
        }
      ]
    },
    {
      "cell_type": "code",
      "source": [
        ""
      ],
      "metadata": {
        "id": "iwpEPxnbu8t6"
      },
      "execution_count": null,
      "outputs": []
    },
    {
      "cell_type": "markdown",
      "source": [
        "Con el programa calculamos W y seguimos con el calculo:\n",
        "\n",
        "$$L_q=λW_q=λ(W-\\frac{1}{μ})=8(0.25-\\frac{1}{12})=8(0.1698)=1.333$$"
      ],
      "metadata": {
        "id": "BBoEG24QOo35"
      }
    },
    {
      "cell_type": "markdown",
      "source": [
        "c) ¿Cuál es el tiempo medio que un cliente pasa en la biblioteca hasta que le han atendido?\n",
        "\n",
        "Calculamos con el programa, a=1"
      ],
      "metadata": {
        "id": "kYscHK8CZRqu"
      }
    },
    {
      "cell_type": "markdown",
      "source": [
        "$$W_q=W-\\frac{1}{μ}=0.25-\\frac{1}{12}=0.16667$$"
      ],
      "metadata": {
        "id": "gsllmG5xah49"
      }
    }
  ]
}